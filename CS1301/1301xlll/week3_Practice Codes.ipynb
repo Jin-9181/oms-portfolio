{
 "cells": [
  {
   "cell_type": "code",
   "execution_count": 4,
   "id": "aaee1f40",
   "metadata": {},
   "outputs": [
    {
     "name": "stdout",
     "output_type": "stream",
     "text": [
      "4328450784\n",
      "4328450944\n",
      "4328450784\n",
      "4328450784\n",
      "4328450944\n",
      "True\n"
     ]
    }
   ],
   "source": [
    "myInt = 5\n",
    "print(id(myInt))\n",
    "myInt = 10\n",
    "print(id(myInt))\n",
    "myInt = 5\n",
    "print(id(myInt))\n",
    "int_2 = 5\n",
    "print(id(int_2))\n",
    "int_3 = 10\n",
    "print(id(int_3))   \n",
    "print(id(int_2) == id(myInt))"
   ]
  },
  {
   "cell_type": "code",
   "execution_count": 8,
   "id": "74f2b1d5",
   "metadata": {},
   "outputs": [
    {
     "name": "stdout",
     "output_type": "stream",
     "text": [
      "4328450784\n",
      "4328450816\n",
      "4375720640\n",
      "4375720640\n",
      "4375720640\n",
      "4375722240\n"
     ]
    }
   ],
   "source": [
    "myInt = 5\n",
    "print(id(myInt))\n",
    "myInt = 6\n",
    "print(id(myInt))\n",
    "\n",
    "myList = [1, 2, 3]\n",
    "print(id(myList))\n",
    "myList.append(4)\n",
    "print(id(myList))\n",
    "myList.remove(4)\n",
    "print(id(myList))\n",
    "myList = [1, 2, 3]\n",
    "print(id(myList))"
   ]
  },
  {
   "cell_type": "code",
   "execution_count": null,
   "id": "103d990a",
   "metadata": {},
   "outputs": [
    {
     "name": "stdout",
     "output_type": "stream",
     "text": [
      "4375739648\n",
      "4375739648\n",
      "4375736512\n",
      "4375728640\n"
     ]
    }
   ],
   "source": [
    "myList1 = [1, 2, 3]\n",
    "myList2 = myList1\n",
    "print(id(myList1))\n",
    "print(id(myList2))\n",
    "myList2 = [1 , 2, 3]\n",
    "print(id(myList2))\n",
    "myList1 = [1, 2, 3]\n",
    "print(id(myList1))"
   ]
  },
  {
   "cell_type": "code",
   "execution_count": 10,
   "id": "7593ab9d",
   "metadata": {},
   "outputs": [
    {
     "name": "stdout",
     "output_type": "stream",
     "text": [
      "abcd -> cdab\n",
      "abcde -> cdeab\n",
      "railroad -> roadrail\n",
      "fireworks -> worksfire\n"
     ]
    }
   ],
   "source": [
    "#Write a function called \"scramble\" that accepts a string\n",
    "#as an argument and returns a new string. The new string \n",
    "#should start with the last half of the original string\n",
    "#and end with the first half. \n",
    "#\n",
    "#If the length of the string is odd, split the string \n",
    "#at the floor of the length / 2 (in other words, the second\n",
    "#half is the longer half).\n",
    "#\n",
    "#For example:\n",
    "#  scramble(\"abcd\") -> \"cdab\"\n",
    "#  screamble(\"abcde\") -> \"cdeab\"\n",
    "#  scramble(\"railroad\")) -> \"roadrail\"\n",
    "#  scramble(\"fireworks\")) -> \"worksfire\"\n",
    "\n",
    "\n",
    "#Write your function here!\n",
    "\n",
    "def scramble(x):\n",
    "    if len(x) % 2 == 0:\n",
    "        y = x[-int(len(x)/2):] + x[:-int(len(x)/2)]\n",
    "    else:\n",
    "        y = x[-int((len(x)+1)/2):] + x[:-int((len(x)+1)/2)]\n",
    "        \n",
    "    return y\n",
    "\n",
    "#Below are some lines of code that will test your function.\n",
    "#You can change the value of the variable(s) to test your\n",
    "#function with different inputs.\n",
    "#\n",
    "#If your function works correctly, this will originally\n",
    "#print the results you see in the examples above.\n",
    "\n",
    "string1 = \"abcd\"\n",
    "string2 = \"abcde\"\n",
    "string3 = \"railroad\"\n",
    "string4 = \"fireworks\"\n",
    "print(string1 + \" -> \" + scramble(string1))\n",
    "print(string2 + \" -> \" + scramble(string2))\n",
    "print(string3 + \" -> \" + scramble(string3))\n",
    "print(string4 + \" -> \" + scramble(string4))\n",
    "\n",
    "\n"
   ]
  }
 ],
 "metadata": {
  "kernelspec": {
   "display_name": "Python 3",
   "language": "python",
   "name": "python3"
  },
  "language_info": {
   "codemirror_mode": {
    "name": "ipython",
    "version": 3
   },
   "file_extension": ".py",
   "mimetype": "text/x-python",
   "name": "python",
   "nbconvert_exporter": "python",
   "pygments_lexer": "ipython3",
   "version": "3.13.1"
  }
 },
 "nbformat": 4,
 "nbformat_minor": 5
}
