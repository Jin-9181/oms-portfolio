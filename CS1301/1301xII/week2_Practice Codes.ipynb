{
 "cells": [
  {
   "cell_type": "code",
   "execution_count": 4,
   "id": "93e2be32",
   "metadata": {},
   "outputs": [
    {
     "name": "stdout",
     "output_type": "stream",
     "text": [
      "HW\n",
      "elloorld\n",
      "!123\n",
      "2\n"
     ]
    }
   ],
   "source": [
    "def sortString (x):\n",
    "    if isinstance(x, str):\n",
    "        upper = \"\"\n",
    "        lower = \"\"\n",
    "        quote = \"\"\n",
    "        space = 0\n",
    "        for i in x: \n",
    "            if ord(i) >= 65 and ord(i) <= 90:\n",
    "                upper += i\n",
    "            elif ord(i) >= 97 and ord(i) <= 122:\n",
    "                lower += i\n",
    "            elif ord(i) >= 33 and ord(i) <= 64:\n",
    "                quote += i\n",
    "            elif i == \" \":\n",
    "                space += 1\n",
    "        \n",
    "        return upper + \"\\n\" + lower + \"\\n\" + quote + \"\\n\" + str(space)\n",
    "    else:\n",
    "        return \"Not a string!\"\n",
    "\n",
    "print(sortString(\"Hello World! 123\"))\n",
    "# Output:"
   ]
  },
  {
   "cell_type": "code",
   "execution_count": 5,
   "id": "dfb8f157",
   "metadata": {},
   "outputs": [
    {
     "name": "stdout",
     "output_type": "stream",
     "text": [
      "Transaction\n",
      "PIN\n",
      "Password\n"
     ]
    }
   ],
   "source": [
    "#Imagine you're writing a cash register application. To make\n",
    "#interaction easier on the user, it doesn't have separate\n",
    "#areas for passwords, PIN numbers, or cash totals --\n",
    "#instead, it looks at what the cashier enters and infers\n",
    "#whether it's their PIN number, their password, or the cash\n",
    "#total for a transaction.\n",
    "#\n",
    "#The register makes this decision with the following rules:\n",
    "#\n",
    "# - If the cashier entered only digits, then it's a PIN\n",
    "#   number.\n",
    "# - If the cashier entered a decimal number, then it's the\n",
    "#   transaction amount.\n",
    "# - If the cashier entered anything else, then it's their\n",
    "#   password.\n",
    "#\n",
    "#Write a function named interpretCashier. interpretCashier\n",
    "#should take one parameter as input, which will always be\n",
    "#a string initially.\n",
    "#\n",
    "# - If the string entered represents a PIN number, return\n",
    "#   \"PIN\". \n",
    "# - If the string entered represents a transaction amount,\n",
    "#   return \"Transaction\".\n",
    "# - If the string entered represents a password, return\n",
    "#   \"Password\".\n",
    "#\n",
    "#Hint: There is a very easy way to do this, and a very hard\n",
    "#way to do this. Remember, this test is on control\n",
    "#structures, not strings.\n",
    "\n",
    "\n",
    "#Write your function here!\n",
    "\n",
    "def interpretCashier(x):\n",
    "    try: \n",
    "        x = float(x)\n",
    "        if x.is_integer():\n",
    "            return \"PIN\"\n",
    "        else:\n",
    "            return \"Transaction\"\n",
    "    except:\n",
    "        return \"Password\"\n",
    "            \n",
    "      \n",
    "\n",
    "        \n",
    "\n",
    "#The lines of code below will test your function. It is not\n",
    "#used for grading, so feel free to change it. As written,\n",
    "#these lines should print Transaction, PIN, and Password,\n",
    "#each on a separate line.\n",
    "print(interpretCashier(\"24.59\"))\n",
    "print(interpretCashier(\"123456\"))\n",
    "print(interpretCashier(\"my$up3rs3cur3p4$$w0rd\"))\n",
    "\n"
   ]
  },
  {
   "cell_type": "code",
   "execution_count": 6,
   "id": "f6bdf39e",
   "metadata": {},
   "outputs": [
    {
     "name": "stdout",
     "output_type": "stream",
     "text": [
      "True\n",
      "True\n",
      "False\n",
      "False\n"
     ]
    }
   ],
   "source": [
    "#Write a function called check_date. check_date should\n",
    "#require two positional parameters: a string representing\n",
    "#the name of a month, and an integer representing a date.\n",
    "#check_date should also have a keyword parameter called\n",
    "#is_leap_year, assumed to be False, representing whether or\n",
    "#not it's a leap year.\n",
    "\n",
    "\n",
    "#Return True if the date is a valid calendar date. Return\n",
    "#False if it is not. A date may not be a valid calendar\n",
    "#date if the month isn't a real month, or if that date does\n",
    "#not exist for that month. You can see some examples at the\n",
    "#end of this file.\n",
    "#\n",
    "#Remember: 30 days has September, April, June, and November.\n",
    "#All the rest have 31, except February, which has 28, until\n",
    "#Leap Year gives it 29.\n",
    "#\n",
    "#You may assume that day will be greater than 0 (you don't\n",
    "#need to check negative or zero values for day).\n",
    "\n",
    "\n",
    "#Write your function here!\n",
    "calendar_month = [\"January\", \"February\", \"March\", \"April\", \"May\", \"June\", \"July\", \"August\", \"September\", \"October\", \"November\", \"December\"]\n",
    "month_with_30 = [\"September\", \"April\", \"June\", \"November\"]\n",
    "\n",
    "\n",
    "\n",
    "def check_date( month, date, is_leap_year = False):\n",
    "    if month in calendar_month:\n",
    "        if month in month_with_30:\n",
    "            if date >=1 and date <31: \n",
    "                return True\n",
    "            else:\n",
    "                return False\n",
    "        elif month == \"February\":\n",
    "            if is_leap_year:\n",
    "                if date>= 1 and date < 30:\n",
    "                    return True\n",
    "                else: \n",
    "                    return False\n",
    "            else:\n",
    "                if date>= 1 and date < 29:\n",
    "                    return True\n",
    "                else:\n",
    "                    return False\n",
    "        else:\n",
    "            if date >= 1 and date < 32:\n",
    "                return True\n",
    "            else:\n",
    "                return False\n",
    "    else:\n",
    "        return False\n",
    "    \n",
    "\n",
    "\n",
    "#Below are some lines of code that will test your function.\n",
    "#You can change the value of the variable(s) to test your\n",
    "#function with different inputs.\n",
    "#\n",
    "#If your function works correctly, this will originally\n",
    "#print: True, True, False, False, each on their own line.\n",
    "print(check_date(\"January\", 31))\n",
    "print(check_date(\"February\", 29, is_leap_year = True))\n",
    "print(check_date(\"Techtember\", 15, is_leap_year = True))\n",
    "print(check_date(\"June\", 31))\n",
    "\n",
    "\n",
    "\n",
    "\n"
   ]
  },
  {
   "cell_type": "code",
   "execution_count": 7,
   "id": "d9845a2f",
   "metadata": {},
   "outputs": [
    {
     "name": "stdout",
     "output_type": "stream",
     "text": [
      "HW\n"
     ]
    }
   ],
   "source": [
    "### only returning caplitalized letters\n",
    "def get_capitals(x):\n",
    "    print_value = \"\"\n",
    "    for i in x:\n",
    "        \n",
    "        if ord(i) >= 65 and ord(i) <= 90:\n",
    "            print_value += i\n",
    "    \n",
    "    return print_value\n",
    "\n",
    "print(get_capitals(\"Hello World! 123\"))\n"
   ]
  },
  {
   "cell_type": "code",
   "execution_count": null,
   "id": "2d0481c4",
   "metadata": {},
   "outputs": [
    {
     "name": "stdout",
     "output_type": "stream",
     "text": [
      "True\n"
     ]
    }
   ],
   "source": [
    "A string is a valid password if it meets ALL the following\n",
    "#conditions:\n",
    "#\n",
    "# - It must be at least 8 characters long.\n",
    "# - It must contain at least one character from each of the\n",
    "#   following categories: capital letters, lower-case letters,\n",
    "#   numbers, and punctuation. For punctuation, the following\n",
    "#   punctuation marks are acceptable: !@#$%&()-_[]{};':\",./<>?\n",
    "# - It may not contain any characters that do not fit into the\n",
    "#   four categories above. This includes any punctuation marks\n",
    "#   not listed in the bullet point above, spaces, and any other\n",
    "#   character.\n",
    "\n",
    "\n",
    "#Add your code here!\n",
    "quot = [\"!\", \"@\", \"#\",\"$\", \"%\", \"&\", \"(\", \")\", \"-\", \"_\", \"[\", \"]\", \"{\", \"}\", \";\", \"'\", \":\", \"\\\"\", \",\", \".\", \"/\", \"<\", \">\", \"?\"] \n",
    "def password_check(x):\n",
    "    if len(x) >= 8:\n",
    "        upper = False\n",
    "        lower = False\n",
    "        puc = False\n",
    "        num = False\n",
    "        for i in x:\n",
    "            if ord(i) >= 65 and ord(i) <= 90:\n",
    "                upper = True\n",
    "            elif ord (i) >= 97 and ord(i) <= 122 :\n",
    "                lower = True\n",
    "            elif i in quot:\n",
    "                puc = True\n",
    "            \n",
    "            elif i in \"0123456789\":\n",
    "                num = True\n",
    "            else:\n",
    "                return False\n",
    "                \n",
    "        return upper and lower and puc and num\n",
    "    else:\n",
    "        return False\n",
    "                        \n"
   ]
  }
 ],
 "metadata": {
  "kernelspec": {
   "display_name": "Python 3",
   "language": "python",
   "name": "python3"
  },
  "language_info": {
   "codemirror_mode": {
    "name": "ipython",
    "version": 3
   },
   "file_extension": ".py",
   "mimetype": "text/x-python",
   "name": "python",
   "nbconvert_exporter": "python",
   "pygments_lexer": "ipython3",
   "version": "3.13.1"
  }
 },
 "nbformat": 4,
 "nbformat_minor": 5
}
