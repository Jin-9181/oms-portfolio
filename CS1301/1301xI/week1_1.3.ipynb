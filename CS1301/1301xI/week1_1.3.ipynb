{
 "cells": [
  {
   "cell_type": "markdown",
   "id": "eba78fa0",
   "metadata": {},
   "source": [
    "## Debugging 1 : print debugging\n",
    " "
   ]
  },
  {
   "cell_type": "code",
   "execution_count": null,
   "id": "2a49eebe",
   "metadata": {},
   "outputs": [],
   "source": [
    "i = 10\n",
    "count = 1\n",
    "while count < i:\n",
    "    count = count + 1\n",
    "while count > 0:\n",
    "    count = count + 1\n",
    "print(count)"
   ]
  },
  {
   "cell_type": "code",
   "execution_count": null,
   "id": "ffe664c0",
   "metadata": {},
   "outputs": [],
   "source": [
    "i = 10 \n",
    "count = 1\n",
    "print(\"first loop start\")\n",
    "while count < i:\n",
    "    count = count + 1\n",
    "print(\"first loop end\")\n",
    "print(\"second loop start\")\n",
    "while count > 0:\n",
    "    count = count + 1\n",
    "print(\"second loop end\")\n",
    "print(count)\n"
   ]
  },
  {
   "cell_type": "code",
   "execution_count": null,
   "id": "cdae2bd0",
   "metadata": {},
   "outputs": [],
   "source": [
    "i = 10\n",
    "count = 1\n",
    "print(\"first loop start\")\n",
    "while count < i:\n",
    "    count = count + 1\n",
    "print(\"first loop end\")\n",
    "print(\"second loop start\")\n",
    "while count > 0:\n",
    "    count = count - 1\n",
    "print(\"second loop end\")\n",
    "print(count)\n"
   ]
  },
  {
   "cell_type": "markdown",
   "id": "7b05947c",
   "metadata": {},
   "source": [
    "## Debugging 2: scope debugging\n"
   ]
  },
  {
   "cell_type": "code",
   "execution_count": 4,
   "id": "6c27ebab",
   "metadata": {},
   "outputs": [
    {
     "name": "stdout",
     "output_type": "stream",
     "text": [
      "6.833333333333333\n"
     ]
    }
   ],
   "source": [
    "grades = [100, 95, 93, 91, 90, 89, 87, 87, 85, 85, 84, 82]\n",
    "sum = 0\n",
    "count = 0\n",
    "for grade in grades:\n",
    "    count = count + 1\n",
    "    sum = grade\n",
    "print(sum / count)"
   ]
  },
  {
   "cell_type": "code",
   "execution_count": 5,
   "id": "86e168f6",
   "metadata": {},
   "outputs": [
    {
     "name": "stdout",
     "output_type": "stream",
     "text": [
      "calculating average...\n",
      "grade: 100 count: 1 sum: 100\n",
      "grade: 95 count: 2 sum: 195\n",
      "grade: 93 count: 3 sum: 288\n",
      "grade: 91 count: 4 sum: 379\n",
      "grade: 90 count: 5 sum: 469\n",
      "grade: 89 count: 6 sum: 558\n",
      "grade: 87 count: 7 sum: 645\n",
      "grade: 87 count: 8 sum: 732\n",
      "grade: 85 count: 9 sum: 817\n",
      "grade: 85 count: 10 sum: 902\n",
      "grade: 84 count: 11 sum: 986\n",
      "grade: 82 count: 12 sum: 1068\n",
      "89.0\n"
     ]
    }
   ],
   "source": [
    "print(\"calculating average...\")\n",
    "grades = [100, 95, 93, 91, 90, 89, 87, 87, 85, 85, 84, 82]\n",
    "sum = 0 \n",
    "count = 0 \n",
    "for grade in grades:\n",
    "    sum = sum + grade\n",
    "    count = count + 1\n",
    "    print(\"grade:\", grade, \"count:\", count, \"sum:\", sum)\n",
    "print(sum/count)\n"
   ]
  }
 ],
 "metadata": {
  "kernelspec": {
   "display_name": "Python 3",
   "language": "python",
   "name": "python3"
  },
  "language_info": {
   "codemirror_mode": {
    "name": "ipython",
    "version": 3
   },
   "file_extension": ".py",
   "mimetype": "text/x-python",
   "name": "python",
   "nbconvert_exporter": "python",
   "pygments_lexer": "ipython3",
   "version": "3.13.1"
  }
 },
 "nbformat": 4,
 "nbformat_minor": 5
}
